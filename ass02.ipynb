{
 "cells": [
  {
   "cell_type": "code",
   "execution_count": null,
   "metadata": {},
   "outputs": [],
   "source": [
    "import numpy as np\n",
    "import matplotlib.pyplot as plt # 그래프 그리기 위해\n",
    "from google.colab import files # data.csv 파일 얻어오기 위해\n",
    "\n",
    "uploaded = files.upload()\n",
    "\n",
    "for fn in uploaded.keys():\n",
    "    print('User uploaded file \"{name}\" with length {length} bytes'.format(name=fn, length=len(uploaded[fn])))"
   ]
  },
  {
   "cell_type": "code",
   "execution_count": null,
   "metadata": {},
   "outputs": [],
   "source": [
    "path = \"data.csv\"\n",
    "data = np.genfromtxt(path, delimiter=',')\n",
    "\n",
    "x_data = data[:, 0]\n",
    "y_data = data[:, 1]\n",
    "\n",
    "plt.figure(figsize=(8, 8))\n",
    "plt.scatter(x_data, y_data, alpha=0.6,color='black')\n",
    "plt.show()"
   ]
  },
  {
   "cell_type": "markdown",
   "metadata": {},
   "source": [
    "**1. Input points**\n",
    "\n",
    " \n",
    " plot a set of points {(x(i),y(i))}\\{ (x^{(i)}, y^{(i)}) \\}{(x(i),y(i))} that are loaded from 'data.csv' file (in black color)"
   ]
  },
  {
   "cell_type": "code",
   "execution_count": null,
   "metadata": {},
   "outputs": [],
   "source": [
    "import numpy as np\n",
    "\n",
    "wguess = np.array(range(5000))     # 변수 저장용 배열 선언\n",
    "bguess = np.array(range(5000))\n",
    "costguess = np.array(range(5000))\n",
    "\n",
    "W = -30.0     # 초기값 설정\n",
    "b = -30.0     # 초기값 설정\n",
    "\n",
    "n_data = len(x_data)     # 데이터의 갯수\n",
    "epochs = 5000            # 시행할 횟수\n",
    "learning_rate = 0.002    # 러닝레이트\n",
    "\n",
    "for i in range(0,epochs):\n",
    "    hypothesis = x_data * W + b    # 예측함수\n",
    "    cost = np.sum((hypothesis - y_data) ** 2)/n_data    # 비용함수\n",
    "\n",
    "    wguess[i] = W    # 각각 횟수마다 값들 저장\n",
    "    bguess[i] = b\n",
    "    costguess[i] = cost\n",
    "\n",
    "    gradient_w = np.sum((W * x_data - y_data + b) * 2 * x_data) / n_data  # W에 대해 편미분  \n",
    "    gradient_b = np.sum((W * x_data - y_data + b) * 2) / n_data    # b에 대해 편미분\n",
    "\n",
    "    W -= learning_rate * gradient_w  # 러닝레이트에 따라 경사도를 따라 값을 변화시킨다\n",
    "    b -= learning_rate * gradient_b\n",
    "\n",
    "print(W)\n",
    "print(b)\n",
    "\n",
    "plt.figure(figsize=(8, 8))\n",
    "plt.scatter(x_data, y_data, alpha=0.3,color='black')\n",
    "\n",
    "x1 = -10\n",
    "x2 = 10\n",
    "y1 = W * x1 + b\n",
    "y2 = W * x2 + b\n",
    "\n",
    "plt.plot([x1,x2],[y1,y2],color='red')\n",
    "\n",
    "plt.show()"
   ]
  },
  {
   "cell_type": "markdown",
   "metadata": {},
   "source": [
    "**2. linear regression result **\n",
    "\n",
    "plot a set of points {(x(i),y(i))}\\{ (x^{(i)}, y^{(i)}) \\}{(x(i),y(i))} that are loaded from 'data.csv' file (in black color)\n",
    "plot a straight line obtained by the optimal linear regression based on the given set of points (in red color)\n",
    "the estimated straight line (linear function) is superimposed on the set of points"
   ]
  },
  {
   "cell_type": "code",
   "execution_count": null,
   "metadata": {},
   "outputs": [],
   "source": [
    "xx = np.arange(-30,30,0.1)\n",
    "yy = np.arange(-30,30,0.1)\n",
    "\n",
    "cc = np.zeros((600,600))   # z축 데이터를 만들어 줌\n",
    "for i in range(0,600):\n",
    "    for j in range(0,600):\n",
    "        cc[i][j] = np.sum((x_data * xx[i] + yy[j] - y_data) ** 2)/n_data\n",
    "\n",
    "\n",
    "xx,yy = np.meshgrid(xx,yy)\n",
    "\n",
    "plt.rcParams[\"figure.figsize\"] = (8, 8)\n",
    "fig = plt.figure()\n",
    "ax = fig.gca(projection='3d')\n",
    "ax.plot_surface(yy,xx,cc)\n",
    "\n",
    "plt.show()"
   ]
  },
  {
   "cell_type": "markdown",
   "metadata": {},
   "source": [
    "** 3. Plot the energy surface**\n",
    "\n",
    "plot the energy surface (θ0,θ1,J(θ0,θ1)(\\theta_0, \\theta_1, J(\\theta_0, \\theta_1)(θ0​,θ1​,J(θ0​,θ1​) with the range of variables θ0=[−30:0.1:30]\\theta_0 = [-30 : 0.1 : 30]θ0​=[−30:0.1:30] and θ1=[−30:0.1:30]\\theta_1 = [-30 : 0.1 : 30]θ1​=[−30:0.1:30]"
   ]
  },
  {
   "cell_type": "code",
   "execution_count": null,
   "metadata": {},
   "outputs": [],
   "source": [
    "plt.rcParams[\"figure.figsize\"] = (8, 8)\n",
    "fig = plt.figure()\n",
    "ax = fig.gca(projection='3d')\n",
    "ax.plot_surface(yy,xx,cc,alpha=0.3)\n",
    "\n",
    "ax.scatter(wguess, bguess, costguess,color='red')\n",
    "ax.plot(wguess,bguess,costguess,color='green')\n",
    "\n",
    "plt.show()"
   ]
  },
  {
   "cell_type": "markdown",
   "metadata": {},
   "source": [
    "**  4. Plot the gradient descent path on the energy surface**\n",
    "\n",
    "plot the energy surface (θ0,θ1,J(θ0,θ1)(\\theta_0, \\theta_1, J(\\theta_0, \\theta_1)(θ0​,θ1​,J(θ0​,θ1​) with the range of variables θ0=[−30:0.1:30]\\theta_0 = [-30 : 0.1 : 30]θ0​=[−30:0.1:30] and θ1=[−30:0.1:30]\\theta_1 = [-30 : 0.1 : 30]θ1​=[−30:0.1:30]\n",
    "\n",
    "plot the energy value with the updated variables θ0(t)\\theta_0^{(t)}θ0(t)​ and θ1(t)\\theta_1^{(t)}θ1(t)​ at each gradient descent step on the energy surface\n",
    "the initial condition is used by θ0(0)=−30\\theta_0^{(0)} = -30θ0(0)​=−30 and θ1(0)=−30\\theta_1^{(0)} = -30θ1(0)​=−30\n",
    "\n",
    "the gradient descent is performed until the convergence is achieved\n",
    "the gradient descent path is superimposed on the energy surface"
   ]
  }
 ],
 "metadata": {
  "kernelspec": {
   "display_name": "Python 3",
   "language": "python",
   "name": "python3"
  },
  "language_info": {
   "codemirror_mode": {
    "name": "ipython",
    "version": 3
   },
   "file_extension": ".py",
   "mimetype": "text/x-python",
   "name": "python",
   "nbconvert_exporter": "python",
   "pygments_lexer": "ipython3",
   "version": "3.8.2"
  }
 },
 "nbformat": 4,
 "nbformat_minor": 4
}
