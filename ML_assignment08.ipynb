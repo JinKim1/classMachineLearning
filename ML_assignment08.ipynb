{
  "nbformat": 4,
  "nbformat_minor": 0,
  "metadata": {
    "colab": {
      "name": "ML_assignment08.ipynb",
      "provenance": [],
      "authorship_tag": "ABX9TyNVnE1K6IYOuqA8RmYydiSX",
      "include_colab_link": true
    },
    "kernelspec": {
      "name": "python3",
      "display_name": "Python 3"
    }
  },
  "cells": [
    {
      "cell_type": "markdown",
      "metadata": {
        "id": "view-in-github",
        "colab_type": "text"
      },
      "source": [
        "<a href=\"https://colab.research.google.com/github/JinKim1/classMachineLearning/blob/master/ML_assignment08.ipynb\" target=\"_parent\"><img src=\"https://colab.research.google.com/assets/colab-badge.svg\" alt=\"Open In Colab\"/></a>"
      ]
    },
    {
      "cell_type": "code",
      "metadata": {
        "id": "ePBEpYKviD60",
        "colab_type": "code",
        "colab": {
          "base_uri": "https://localhost:8080/",
          "height": 34
        },
        "outputId": "c6e65e60-2a9d-4ecd-a389-b74db078dc04"
      },
      "source": [
        "import matplotlib.pyplot as plt\n",
        "import numpy as np\n",
        "\n",
        "file_data   = \"mnist_test.csv\"\n",
        "handle_file = open(file_data, \"r\")\n",
        "data        = handle_file.readlines()\n",
        "handle_file.close()\n",
        "\n",
        "size_row    = 28    # height of the image\n",
        "size_col    = 28    # width of the image\n",
        "\n",
        "num_image   = len(data)\n",
        "count       = 0     # count for the number of images\n",
        "\n",
        "print(num_image)\n",
        "\n",
        "list_image  = np.empty((size_row * size_col, num_image), dtype=float)\n",
        "list_label  = np.empty(num_image, dtype=int)\n",
        "\n",
        "for line in data:\n",
        "\n",
        "    line_data   = line.split(',')\n",
        "    label       = line_data[0]\n",
        "    im_vector   = np.asfarray(line_data[1:])\n",
        "\n",
        "    list_label[count]       = label\n",
        "    list_image[:, count]    = im_vector    \n",
        "\n",
        "    count += 1"
      ],
      "execution_count": 216,
      "outputs": [
        {
          "output_type": "stream",
          "text": [
            "10000\n"
          ],
          "name": "stdout"
        }
      ]
    },
    {
      "cell_type": "code",
      "metadata": {
        "id": "Gab14GD_W-ej",
        "colab_type": "code",
        "colab": {}
      },
      "source": [
        "num_vector = np.zeros((10,784), dtype=float)\n",
        "num_count = np.zeros(10,dtype = int)\n",
        "for i in range(10000):\n",
        "    for j in range(10):\n",
        "        if(list_label[i]==j):\n",
        "            num_vector[j] += list_image[:,i]\n",
        "            num_count[j]+=1\n",
        "\n",
        "for i in range(10):\n",
        "    num_vector[i]=num_vector[i]/num_count[i]\n"
      ],
      "execution_count": 0,
      "outputs": []
    },
    {
      "cell_type": "code",
      "metadata": {
        "id": "ad4106n-pRwF",
        "colab_type": "code",
        "colab": {}
      },
      "source": [
        "r = np.random.normal(0,1,784)\n",
        "list_image2 = np.zeros((10000,784),dtype=float)\n",
        "sum_image2 = np.zeros(10000,dtype=float)\n",
        "sum_num = np.zeros(10,dtype=float)\n",
        "num = np.zeros(10,dtype=float)\n",
        "\n",
        "def s(z):\n",
        "    return 1/(1+np.exp(-z))\n"
      ],
      "execution_count": 0,
      "outputs": []
    },
    {
      "cell_type": "code",
      "metadata": {
        "id": "La9QpSTKZqUM",
        "colab_type": "code",
        "colab": {}
      },
      "source": [
        "for i in range(10000):\n",
        "    list_image2[i] = list_image[:,i]*r\n",
        "    sum_image2[i] = np.sum(list_image2[i])\n",
        "\n",
        "# print(sum_image2[0])\n",
        "for i in range(10000):\n",
        "    for j in range(10):\n",
        "        if(list_label[i]==j):\n",
        "            sum_num[j] = sum_num[j] + sum_image2[i]\n",
        "\n",
        "for i in range(10):          \n",
        "    sum_num[i] = sum_num[i]/num_count[i]\n",
        "    num[i] = s(sum_num[i]/255)\n"
      ],
      "execution_count": 0,
      "outputs": []
    },
    {
      "cell_type": "markdown",
      "metadata": {
        "id": "wZUEchCwurSJ",
        "colab_type": "text"
      },
      "source": [
        "**===================================RESULT=========================================**"
      ]
    },
    {
      "cell_type": "markdown",
      "metadata": {
        "id": "cHPr-KmItflF",
        "colab_type": "text"
      },
      "source": [
        "**1. Plot the average image**"
      ]
    },
    {
      "cell_type": "code",
      "metadata": {
        "id": "vVik2MMSthKJ",
        "colab_type": "code",
        "colab": {
          "base_uri": "https://localhost:8080/",
          "height": 245
        },
        "outputId": "871097b7-0922-4314-e3a9-0ae12fc9b810"
      },
      "source": [
        "plt.figure(figsize=(8,8))\n",
        "for i in range(10):\n",
        "    im_matrix   = num_vector[i].reshape((size_row,size_col))\n",
        "\n",
        "    plt.subplots_adjust(top=0.5)\n",
        "    plt.subplot(2, 5, i+1)\n",
        "    plt.title(i)\n",
        "    plt.imshow(im_matrix, cmap='Greys', interpolation='None')\n",
        "\n",
        "    frame   = plt.gca()\n",
        "    frame.axes.get_xaxis().set_visible(False)\n",
        "    frame.axes.get_yaxis().set_visible(False)\n",
        "    \n",
        "plt.show()"
      ],
      "execution_count": 224,
      "outputs": [
        {
          "output_type": "display_data",
          "data": {
            "image/png": "[encoded data removed]",
            "text/plain": [
              "<Figure size 576x576 with 10 Axes>"
            ]
          },
          "metadata": {
            "tags": [],
            "needs_background": "light"
          }
        }
      ]
    },
    {
      "cell_type": "markdown",
      "metadata": {
        "id": "fuL8EydHtiLt",
        "colab_type": "text"
      },
      "source": [
        "**2. Present the output of the neural network with random weights**"
      ]
    },
    {
      "cell_type": "code",
      "metadata": {
        "id": "o8fWvQFftikX",
        "colab_type": "code",
        "colab": {
          "base_uri": "https://localhost:8080/",
          "height": 193
        },
        "outputId": "129cd00c-3aa9-4d24-9a73-118151384c33"
      },
      "source": [
        "for i in range(10):    \n",
        "    print(num[i])"
      ],
      "execution_count": 225,
      "outputs": [
        {
          "output_type": "stream",
          "text": [
            "0.015922968866198938\n",
            "0.001636380605447995\n",
            "0.8431501950344445\n",
            "0.0018107572707403382\n",
            "0.7554999878614901\n",
            "0.010206122941604744\n",
            "0.11218720274703634\n",
            "0.006220491109087337\n",
            "0.16721582471845148\n",
            "0.12947523991379137\n"
          ],
          "name": "stdout"
        }
      ]
    }
  ]
}