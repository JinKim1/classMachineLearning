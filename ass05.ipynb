{
 "cells": [
  {
   "cell_type": "code",
   "execution_count": 0,
   "metadata": {
    "colab": {},
    "colab_type": "code",
    "id": "lb2GNlI0jXnB"
   },
   "outputs": [],
   "source": [
    "import numpy as np\n",
    "import matplotlib.pyplot as plt  # 그래프 그리기 위해\n",
    "from google.colab import files   # data.csv 파일 얻어오기 위해\n",
    "\n",
    "uploaded = files.upload()\n",
    "for fn in uploaded.keys():\n",
    "    print('User uploaded file \"{name}\" with length {length} bytes'.format(name=fn, length=len(uploaded[fn])))\n"
   ]
  },
  {
   "cell_type": "code",
   "execution_count": null,
   "metadata": {},
   "outputs": [],
   "source": [
    "import numpy as np\n",
    "import matplotlib.pyplot as plt\n",
    "\n",
    "data    = np.genfromtxt(\"data (3).txt\", delimiter=',')\n",
    "\n",
    "x       = data[:, 0]\n",
    "y       = data[:, 1]\n",
    "l       = data[:, 2]\n",
    "\n",
    "x_label0    = x[l == 0]\n",
    "x_label1    = x[l == 1]\n",
    "\n",
    "y_label0    = y[l == 0]\n",
    "y_label1    = y[l == 1]\n",
    "\n",
    "# print(x)\n",
    "# print(y)\n",
    "# print(l)\n",
    "\n",
    "plt.figure(figsize=(8, 8))\n",
    "plt.scatter(x_label0, y_label0, alpha=0.4, c='b')\n",
    "plt.scatter(x_label1, y_label1, alpha=0.4, c='r')\n",
    "plt.title('Training Data',fontsize=18)\n",
    "plt.show()"
   ]
  },
  {
   "cell_type": "code",
   "execution_count": null,
   "metadata": {},
   "outputs": [],
   "source": [
    "import numpy as np\n",
    "\n",
    "n_data = len(x)\n",
    "lter_num = 10000000          # 반복 수\n",
    "learning_rate = 0.0005\n",
    "\n",
    "def s(z):\n",
    "    return 1 / (1+np.exp(-z))\n",
    "\n",
    "w1_guess = np.array(range(lter_num),dtype=float)     # 변수 저장용 배열 선언\n",
    "w2_guess = np.array(range(lter_num),dtype=float)\n",
    "b_guess = np.array(range(lter_num),dtype=float)\n",
    "cost_guess = np.array(range(lter_num),dtype=float)\n",
    "\n",
    "W1 = 0.0     # 초기값 설정\n",
    "W2 = 0.0\n",
    "b = 0.0      # 초기값 설정\n",
    "\n",
    "for i in range(0,lter_num):\n",
    "    z = x*W1 + y*W2 + b   # 예측함수\n",
    "    cost = np.sum(  -l*np.log(s(z)) - (1-l)*np.log(1-s(z))  )/n_data\n",
    "\n",
    "    w1_guess[i] = W1          # 반복마다 값들 저장\n",
    "    w2_guess[i] = W2\n",
    "    b_guess[i] = b\n",
    "    cost_guess[i] = cost\n",
    "\n",
    "    gradient_w1 = np.sum((s(z)-l)*x)/n_data\n",
    "    gradient_w2 = np.sum((s(z)-l)*y)/n_data\n",
    "    gradient_b = np.sum((s(z)-l))/n_data            # b에 대해 편미분\n",
    "\n",
    "    W1 -= learning_rate * gradient_w1  # 러닝레이트에 따라 경사도를 따라 값을 변화시킨다\n",
    "    W2 -= learning_rate * gradient_w2\n",
    "    b -= learning_rate * gradient_b\n",
    "\n",
    "print(W1,W2,b)  # 학습 후 W1,W2,W3,b 값 확인\n",
    "print(cost)  # 학습 후 cost값 확인\n"
   ]
  },
  {
   "cell_type": "code",
   "execution_count": null,
   "metadata": {},
   "outputs": [],
   "source": [
    "lter = np.array(range(lter_num))\n",
    "\n",
    "plt.figure(figsize=(8, 8))\n",
    "plt.plot(lter, w1_guess, alpha=0.8,color='green')\n",
    "plt.plot(lter, w2_guess, alpha=0.4,color='blue')\n",
    "plt.plot(lter, b_guess, alpha=0.6,color='red')\n",
    "plt.title('Estimated parameters',fontsize=18)\n",
    "plt.xlabel('Iteration',fontsize=14)\n",
    "plt.show()"
   ]
  }
 ],
 "metadata": {
  "colab": {
   "name": "djml.ipynb",
   "provenance": [],
   "toc_visible": true
  },
  "kernelspec": {
   "display_name": "Python 3",
   "language": "python",
   "name": "python3"
  },
  "language_info": {
   "codemirror_mode": {
    "name": "ipython",
    "version": 3
   },
   "file_extension": ".py",
   "mimetype": "text/x-python",
   "name": "python",
   "nbconvert_exporter": "python",
   "pygments_lexer": "ipython3",
   "version": "3.8.2"
  }
 },
 "nbformat": 4,
 "nbformat_minor": 1
}
