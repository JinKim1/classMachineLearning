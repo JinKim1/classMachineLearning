{
 "cells": [
  {
   "cell_type": "code",
   "execution_count": 0,
   "metadata": {
    "colab": {},
    "colab_type": "code",
    "id": "Jn6asppH_0mJ"
   },
   "outputs": [],
   "source": [
    "import numpy as np\n",
    "import matplotlib.pyplot as plt  # 그래프 그리기 위해\n",
    "from google.colab import files   # data.csv 파일 얻어오기 위해\n",
    "\n",
    "uploaded = files.upload()\n",
    "for fn in uploaded.keys():\n",
    "    print('User uploaded file \"{name}\" with length {length} bytes'.format(name=fn, length=len(uploaded[fn])))\n",
    "\n",
    "uploaded = files.upload()\n",
    "for fn in uploaded.keys():\n",
    "    print('User uploaded file \"{name}\" with length {length} bytes'.format(name=fn, length=len(uploaded[fn])))"
   ]
  },
  {
   "cell_type": "code",
   "execution_count": null,
   "metadata": {},
   "outputs": [],
   "source": [
    "import csv\n",
    "\n",
    "x_train_data = np.array(range(300),dtype=float)   # train data\n",
    "y_train_data = np.array(range(300),dtype=float)\n",
    "z_train_data = np.array(range(300),dtype=float)\n",
    "h_train_data = np.array(range(300),dtype=float)\n",
    "\n",
    "x_test_data = np.array(range(300),dtype=float)    # test data\n",
    "y_test_data = np.array(range(300),dtype=float)\n",
    "z_test_data = np.array(range(300),dtype=float)\n",
    "h_test_data = np.array(range(300),dtype=float)\n",
    "\n",
    "one_data = np.ones(300)\n",
    "\n",
    "with open('data_train.csv', newline='') as myfile:  # save train data set\n",
    "    reader  = csv.reader(myfile, delimiter=',')\n",
    "    ct = 1 \n",
    "    for i in reader:\n",
    "        x_train_data[ct-1] = i[0]\n",
    "        y_train_data[ct-1] = i[1]\n",
    "        z_train_data[ct-1] = i[2]\n",
    "        h_train_data[ct-1] = i[3]\n",
    "        ct += 1\n",
    "\n",
    "with open('data_test.csv', newline='') as myfile:   # save test data set\n",
    "    reader  = csv.reader(myfile, delimiter=',')\n",
    "    ct = 1 \n",
    "    for i in reader:\n",
    "        x_test_data[ct-1] = i[0]\n",
    "        y_test_data[ct-1] = i[1]\n",
    "        z_test_data[ct-1] = i[2]\n",
    "        h_test_data[ct-1] = i[3]\n",
    "        ct += 1"
   ]
  },
  {
   "cell_type": "code",
   "execution_count": null,
   "metadata": {},
   "outputs": [],
   "source": [
    "import numpy as np\n",
    "\n",
    "lter_num = 100000          # 반복 수\n",
    "\n",
    "w1guess = np.array(range(lter_num),dtype=float)     # 변수 저장용 배열 선언\n",
    "w2guess = np.array(range(lter_num),dtype=float)\n",
    "w3guess = np.array(range(lter_num),dtype=float)\n",
    "bguess = np.array(range(lter_num),dtype=float)\n",
    "train_costguess = np.array(range(lter_num),dtype=float)\n",
    "test_costguess = np.array(range(lter_num),dtype=float)\n",
    "\n",
    "W1 = 0.0     # 초기값 설정\n",
    "W2 = 0.0\n",
    "W3 = 0.0\n",
    "b = 0.0      # 초기값 설정\n",
    "\n",
    "n_data = 300                # 데이터의 갯수\n",
    "learning_rate = 0.000001    # 러닝레이트\n",
    "#0.00001 이하로 잡아야 함\n",
    "\n",
    "for i in range(0,lter_num):\n",
    "    train_hypothesis = x_train_data * W1 + y_train_data * W2 + z_train_data * W3 + b   # 예측함수\n",
    "    train_cost = np.sum((train_hypothesis - h_train_data) ** 2)/n_data                 # 비용함수\n",
    "    \n",
    "    test_hypothesis = x_test_data * W1 + y_test_data * W2 + z_test_data * W3 + b\n",
    "    test_cost = np.sum((test_hypothesis - h_test_data) ** 2)/n_data                    # test data의 비용\n",
    "\n",
    "    w1guess[i] = W1          # 반복마다 값들 저장\n",
    "    w2guess[i] = W2\n",
    "    w3guess[i] = W3\n",
    "    bguess[i] = b\n",
    "    train_costguess[i] = train_cost\n",
    "    test_costguess[i] = test_cost\n",
    "\n",
    "    gradient_w1 = np.sum(( W1*x_data + W2*y_data + W3*z_data - h_data) * 2 * x_data) / n_data  # W1에 대해 편미분  \n",
    "    gradient_w2 = np.sum(( W1*x_data + W2*y_data + W3*z_data - h_data) * 2 * y_data) / n_data\n",
    "    gradient_w3 = np.sum(( W1*x_data + W2*y_data + W3*z_data - h_data) * 2 * z_data) / n_data\n",
    "    gradient_b = np.sum(( W1*x_data + W2*y_data + W3*z_data - h_data) * 2) / n_data            # b에 대해 편미분\n",
    "\n",
    "    W1 -= learning_rate * gradient_w1  # 러닝레이트에 따라 경사도를 따라 값을 변화시킨다\n",
    "    W2 -= learning_rate * gradient_w2\n",
    "    W3 -= learning_rate * gradient_w3\n",
    "    b -= learning_rate * gradient_b\n",
    "\n",
    "print(W1,W2,W3,b)  # 학습 후 W1,W2,W3,b 값 확인\n",
    "print(train_cost)  # 학습 후 cost값 확인\n"
   ]
  },
  {
   "cell_type": "code",
   "execution_count": null,
   "metadata": {},
   "outputs": [],
   "source": [
    "lter = np.array(range(lter_num))\n",
    "\n",
    "plt.figure(figsize=(8, 8))\n",
    "plt.plot(lter, w1guess, alpha=0.6,color='red')\n",
    "plt.plot(lter, w2guess, alpha=0.6,color='green')\n",
    "plt.plot(lter, w3guess, alpha=0.6,color='blue')\n",
    "plt.plot(lter, bguess, alpha=0.6,color='black')\n",
    "\n",
    "plt.show()"
   ]
  },
  {
   "cell_type": "code",
   "execution_count": null,
   "metadata": {},
   "outputs": [],
   "source": [
    "plt.figure(figsize=(8, 8))                                 # 초기 cost값이 너무 커서 그래프가 알아보기 힘듬\n",
    "plt.plot(lter, train_costguess, alpha=0.6,color='blue')\n",
    "print(train_costguess[0])\n",
    "print(train_costguess[99999])\n",
    "plt.show()                                        \n",
    "\n",
    "\n",
    "remake_train_costguess = np.array(range(90000))             # 10,000번 반복 시점부터 그래프 그림\n",
    "remake_lter = np.array(range(90000))\n",
    "for i in range(0,90000):\n",
    "    remake_train_costguess[i] = train_costguess[i+9999]\n",
    "    remake_lter[i] = lter[i+9999]\n",
    "plt.plot(remake_lter,remake_train_costguess,color='blue')\n",
    "plt.show()\n",
    "\n",
    "print(train_costguess[99999])                              # 최종 train data 의 cost값"
   ]
  },
  {
   "cell_type": "code",
   "execution_count": null,
   "metadata": {},
   "outputs": [],
   "source": [
    "plt.figure(figsize=(8, 8))                                  # 초기 cost값이 너무 커서 그래프가 알아보기 힘듬\n",
    "plt.plot(lter, test_costguess, alpha=0.6,color='red')\n",
    "plt.show()\n",
    "\n",
    "\n",
    "remake_test_costguess = np.array(range(90000))              # 10,000번 반복 시점부터 그래프 그림\n",
    "for i in range(0,90000):\n",
    "    remake_test_costguess[i] = test_costguess[i+9999]\n",
    "plt.plot(remake_lter,remake_test_costguess,color='red')\n",
    "plt.show()\n",
    "\n",
    "print(test_costguess[99999])                               # test data 의 최종 cost 값"
   ]
  }
 ],
 "metadata": {
  "colab": {
   "name": "djml.ipynb",
   "provenance": []
  },
  "kernelspec": {
   "display_name": "Python 3",
   "language": "python",
   "name": "python3"
  },
  "language_info": {
   "codemirror_mode": {
    "name": "ipython",
    "version": 3
   },
   "file_extension": ".py",
   "mimetype": "text/x-python",
   "name": "python",
   "nbconvert_exporter": "python",
   "pygments_lexer": "ipython3",
   "version": "3.8.2"
  }
 },
 "nbformat": 4,
 "nbformat_minor": 1
}
