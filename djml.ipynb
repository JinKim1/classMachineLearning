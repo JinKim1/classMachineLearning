{
  "nbformat": 4,
  "nbformat_minor": 0,
  "metadata": {
    "colab": {
      "name": "djml.ipynb",
      "provenance": [],
      "authorship_tag": "ABX9TyMjvEYRia73ejvMtCFT7Ozf",
      "include_colab_link": true
    },
    "kernelspec": {
      "name": "python3",
      "display_name": "Python 3"
    }
  },
  "cells": [
    {
      "cell_type": "markdown",
      "metadata": {
        "id": "view-in-github",
        "colab_type": "text"
      },
      "source": [
        "<a href=\"https://colab.research.google.com/github/JinKim1/classMachineLearning/blob/master/djml.ipynb\" target=\"_parent\"><img src=\"https://colab.research.google.com/assets/colab-badge.svg\" alt=\"Open In Colab\"/></a>"
      ]
    },
    {
      "cell_type": "markdown",
      "metadata": {
        "id": "Y3R8hlf11mnS",
        "colab_type": "text"
      },
      "source": [
        "# 김동진 머신러닝 노트."
      ]
    },
    {
      "cell_type": "markdown",
      "metadata": {
        "id": "OlhTvcbC3u4j",
        "colab_type": "text"
      },
      "source": [
        "1.Data\n",
        "\n",
        "m = 20, a = 2, b = 5,σ = 1 로 정했다.\n",
        "\n",
        "1.   x는 0에서 시작하여 이전 값에 0~1사이의 랜덤 값을 더해주는 방식으로 만들었음(random perturbation).\n",
        "2.   y^ 은 2x + 5 로 만들었음.\n",
        "3.   y는 y^ 에서 평균 0 standard deviation 1인 노이즈를 만들어 더한 값으로 지정해주었음.\n",
        "4.   파랑 선은 내가 지정한 함수의 모습이다.\n",
        "5.   검정색 점들은 위의 과정을 통해 만들어진 20개의 데이터이다.\n",
        "\n"
      ]
    },
    {
      "cell_type": "code",
      "metadata": {
        "id": "XaNfzq2mjeRI",
        "colab_type": "code",
        "colab": {
          "base_uri": "https://localhost:8080/",
          "height": 265
        },
        "outputId": "cff1fb3d-f640-41f1-fbd3-d4a709302380"
      },
      "source": [
        "from matplotlib import pyplot as plt\n",
        "import numpy as np\n",
        "\n",
        "def func(x,a,b):\n",
        "    return a*x + b\n",
        "\n",
        "x = torch.zeros(20)\n",
        "np.random.seed(1)\n",
        "xplus = np.random.rand(19)\n",
        "nb_epochs = 20\n",
        "for epoch in range(0,nb_epochs-1):\n",
        "    x[epoch+1] = x[epoch]+xplus[epoch]\n",
        "y = func(x,2,5)\n",
        "\n",
        "noise = np.random.normal(0,1,20)\n",
        "yn = y + noise\n",
        "\n",
        "plt.plot(x,y)\n",
        "plt.scatter(x,yn,color = 'black')\n",
        "plt.show()"
      ],
      "execution_count": 75,
      "outputs": [
        {
          "output_type": "display_data",
          "data": {
            "image/png": "[encoded data removed]",
            "text/plain": [
              "<Figure size 432x288 with 1 Axes>"
            ]
          },
          "metadata": {
            "tags": []
          }
        }
      ]
    },
    {
      "cell_type": "code",
      "metadata": {
        "id": "Jn6asppH_0mJ",
        "colab_type": "code",
        "colab": {}
      },
      "source": [
        ""
      ],
      "execution_count": 0,
      "outputs": []
    },
    {
      "cell_type": "code",
      "metadata": {
        "id": "weHj8xTm6U8e",
        "colab_type": "code",
        "colab": {}
      },
      "source": [
        ""
      ],
      "execution_count": 0,
      "outputs": []
    }
  ]
}
