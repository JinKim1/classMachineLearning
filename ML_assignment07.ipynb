{
  "nbformat": 4,
  "nbformat_minor": 0,
  "metadata": {
    "colab": {
      "name": "ML_assignment07.ipynb",
      "provenance": [],
      "authorship_tag": "ABX9TyMbYl4Ne+uI8uChW0Nc1tGd",
      "include_colab_link": true
    },
    "kernelspec": {
      "name": "python3",
      "display_name": "Python 3"
    }
  },
  "cells": [
    {
      "cell_type": "markdown",
      "metadata": {
        "id": "view-in-github",
        "colab_type": "text"
      },
      "source": [
        "<a href=\"https://colab.research.google.com/github/JinKim1/classMachineLearning/blob/master/ML_assignment07.ipynb\" target=\"_parent\"><img src=\"https://colab.research.google.com/assets/colab-badge.svg\" alt=\"Open In Colab\"/></a>"
      ]
    },
    {
      "cell_type": "markdown",
      "metadata": {
        "id": "qr6PRLf5lOrG",
        "colab_type": "text"
      },
      "source": [
        "Machine Learning note for Dongjin"
      ]
    },
    {
      "cell_type": "code",
      "metadata": {
        "id": "scCLaTx3keXo",
        "colab_type": "code",
        "colab": {}
      },
      "source": [
        "import numpy as np\n",
        "import matplotlib.pyplot as plt\n",
        "\n",
        "data    = np.genfromtxt(\"data-nonlinear.txt\", delimiter=',')\n",
        "\n",
        "x  = data[:, 0]\n",
        "y  = data[:, 1]\n",
        "l   = data[:, 2]\n",
        "\n",
        "x_0 = x[l == 0]\n",
        "y_0 = y[l == 0]\n",
        "\n",
        "x_1 = x[l == 1]\n",
        "y_1 = y[l == 1]"
      ],
      "execution_count": 0,
      "outputs": []
    },
    {
      "cell_type": "code",
      "metadata": {
        "id": "Z0txa9v-LpLD",
        "colab_type": "code",
        "colab": {}
      },
      "source": [
        "one_118 = np.ones(118)\n",
        "XY = np.arange(11800,dtype=float)\n",
        "XY = XY.reshape(10,10,118)\n",
        "XY[0][0] = one_118\n",
        "XY[0][1] = y\n",
        "XY[0][2] = y*y\n",
        "XY[0][3] = y*y*y\n",
        "XY[0][4] = y*y*y*y\n",
        "XY[0][5] = y*y*y*y*y\n",
        "XY[0][6] = y*y*y*y*y*y\n",
        "XY[0][7] = y*y*y*y*y*y*y\n",
        "XY[0][8] = y*y*y*y*y*y*y*y\n",
        "XY[0][9] = y*y*y*y*y*y*y*y*y\n",
        "\n",
        "XY[1][0] = x\n",
        "XY[1][1] = x*y\n",
        "XY[1][2] = x*y*y\n",
        "XY[1][3] = x*y*y*y\n",
        "XY[1][4] = x*y*y*y*y\n",
        "XY[1][5] = x*y*y*y*y*y\n",
        "XY[1][6] = x*y*y*y*y*y*y\n",
        "XY[1][7] = x*y*y*y*y*y*y*y\n",
        "XY[1][8] = x*y*y*y*y*y*y*y*y\n",
        "XY[1][9] = x*y*y*y*y*y*y*y*y*y\n",
        "\n",
        "XY[2][0] = x*x\n",
        "XY[2][1] = x*x*y\n",
        "XY[2][2] = x*x*y*y\n",
        "XY[2][3] = x*x*y*y*y\n",
        "XY[2][4] = x*x*y*y*y*y\n",
        "XY[2][5] = x*x*y*y*y*y*y\n",
        "XY[2][6] = x*x*y*y*y*y*y*y\n",
        "XY[2][7] = x*x*y*y*y*y*y*y*y\n",
        "XY[2][8] = x*x*y*y*y*y*y*y*y*y\n",
        "XY[2][9] = x*x*y*y*y*y*y*y*y*y*y\n",
        "\n",
        "XY[3][0] = x*x*x\n",
        "XY[3][1] = x*x*x*y\n",
        "XY[3][2] = x*x*x*y*y\n",
        "XY[3][3] = x*x*x*y*y*y\n",
        "XY[3][4] = x*x*x*y*y*y*y\n",
        "XY[3][5] = x*x*x*y*y*y*y*y\n",
        "XY[3][6] = x*x*x*y*y*y*y*y*y\n",
        "XY[3][7] = x*x*x*y*y*y*y*y*y*y\n",
        "XY[3][8] = x*x*x*y*y*y*y*y*y*y*y\n",
        "XY[3][9] = x*x*x*y*y*y*y*y*y*y*y*y\n",
        "\n",
        "XY[4][0] = x*x*x*x\n",
        "XY[4][1] = x*x*x*x*y\n",
        "XY[4][2] = x*x*x*x*y*y\n",
        "XY[4][3] = x*x*x*x*y*y*y\n",
        "XY[4][4] = x*x*x*x*y*y*y*y\n",
        "XY[4][5] = x*x*x*x*y*y*y*y*y\n",
        "XY[4][6] = x*x*x*x*y*y*y*y*y*y\n",
        "XY[4][7] = x*x*x*x*y*y*y*y*y*y*y\n",
        "XY[4][8] = x*x*x*x*y*y*y*y*y*y*y*y\n",
        "XY[4][9] = x*x*x*x*y*y*y*y*y*y*y*y*y\n",
        "\n",
        "XY[5][0] = x*x*x*x*x\n",
        "XY[5][1] = x*x*x*x*x*y\n",
        "XY[5][2] = x*x*x*x*x*y*y\n",
        "XY[5][3] = x*x*x*x*x*y*y*y\n",
        "XY[5][4] = x*x*x*x*x*y*y*y*y\n",
        "XY[5][5] = x*x*x*x*x*y*y*y*y*y\n",
        "XY[5][6] = x*x*x*x*x*y*y*y*y*y*y\n",
        "XY[5][7] = x*x*x*x*x*y*y*y*y*y*y*y\n",
        "XY[5][8] = x*x*x*x*x*y*y*y*y*y*y*y*y\n",
        "XY[5][9] = x*x*x*x*x*y*y*y*y*y*y*y*y*y\n",
        "\n",
        "XY[6][0] = x*x*x*x*x*x\n",
        "XY[6][1] = x*x*x*x*x*x*y\n",
        "XY[6][2] = x*x*x*x*x*x*y*y\n",
        "XY[6][3] = x*x*x*x*x*x*y*y*y\n",
        "XY[6][4] = x*x*x*x*x*x*y*y*y*y\n",
        "XY[6][5] = x*x*x*x*x*x*y*y*y*y*y\n",
        "XY[6][6] = x*x*x*x*x*x*y*y*y*y*y*y\n",
        "XY[6][7] = x*x*x*x*x*x*y*y*y*y*y*y*y\n",
        "XY[6][8] = x*x*x*x*x*x*y*y*y*y*y*y*y*y\n",
        "XY[6][9] = x*x*x*x*x*x*y*y*y*y*y*y*y*y*y\n",
        "\n",
        "XY[7][0] = x*x*x*x*x*x*x\n",
        "XY[7][1] = x*x*x*x*x*x*x*y\n",
        "XY[7][2] = x*x*x*x*x*x*x*y*y\n",
        "XY[7][3] = x*x*x*x*x*x*x*y*y*y\n",
        "XY[7][4] = x*x*x*x*x*x*x*y*y*y*y\n",
        "XY[7][5] = x*x*x*x*x*x*x*y*y*y*y*y\n",
        "XY[7][6] = x*x*x*x*x*x*x*y*y*y*y*y*y\n",
        "XY[7][7] = x*x*x*x*x*x*x*y*y*y*y*y*y*y\n",
        "XY[7][8] = x*x*x*x*x*x*x*y*y*y*y*y*y*y*y\n",
        "XY[7][9] = x*x*x*x*x*x*x*y*y*y*y*y*y*y*y*y\n",
        "\n",
        "XY[8][0] = x*x*x*x*x*x*x*x\n",
        "XY[8][1] = x*x*x*x*x*x*x*x*y\n",
        "XY[8][2] = x*x*x*x*x*x*x*x*y*y\n",
        "XY[8][3] = x*x*x*x*x*x*x*x*y*y*y\n",
        "XY[8][4] = x*x*x*x*x*x*x*x*y*y*y*y\n",
        "XY[8][5] = x*x*x*x*x*x*x*x*y*y*y*y*y\n",
        "XY[8][6] = x*x*x*x*x*x*x*x*y*y*y*y*y*y\n",
        "XY[8][7] = x*x*x*x*x*x*x*x*y*y*y*y*y*y*y\n",
        "XY[8][8] = x*x*x*x*x*x*x*x*y*y*y*y*y*y*y*y\n",
        "XY[8][9] = x*x*x*x*x*x*x*x*y*y*y*y*y*y*y*y*y\n",
        "\n",
        "XY[9][0] = x*x*x*x*x*x*x*x*x\n",
        "XY[9][1] = x*x*x*x*x*x*x*x*x*y\n",
        "XY[9][2] = x*x*x*x*x*x*x*x*x*y*y\n",
        "XY[9][3] = x*x*x*x*x*x*x*x*x*y*y*y\n",
        "XY[9][4] = x*x*x*x*x*x*x*x*x*y*y*y*y\n",
        "XY[9][5] = x*x*x*x*x*x*x*x*x*y*y*y*y*y\n",
        "XY[9][6] = x*x*x*x*x*x*x*x*x*y*y*y*y*y*y\n",
        "XY[9][7] = x*x*x*x*x*x*x*x*x*y*y*y*y*y*y*y\n",
        "XY[9][8] = x*x*x*x*x*x*x*x*x*y*y*y*y*y*y*y*y\n",
        "XY[9][9] = x*x*x*x*x*x*x*x*x*y*y*y*y*y*y*y*y*y\n",
        "# print(XY[0][0])\n"
      ],
      "execution_count": 0,
      "outputs": []
    },
    {
      "cell_type": "code",
      "metadata": {
        "id": "MIz8wcSagW-N",
        "colab_type": "code",
        "colab": {
          "base_uri": "https://localhost:8080/",
          "height": 139
        },
        "outputId": "328db739-7848-49d9-c6c5-77371ca0b485"
      },
      "source": [
        "xg = np.arange(-0.9,1,0.01)\n",
        "yg = np.arange(-0.9,1,0.01)\n",
        "xg,yg = np.meshgrid(xg,yg)\n",
        "print(xg)"
      ],
      "execution_count": 9,
      "outputs": [
        {
          "output_type": "stream",
          "text": [
            "[[-0.9  -0.89 -0.88 ...  0.97  0.98  0.99]\n",
            " [-0.9  -0.89 -0.88 ...  0.97  0.98  0.99]\n",
            " [-0.9  -0.89 -0.88 ...  0.97  0.98  0.99]\n",
            " ...\n",
            " [-0.9  -0.89 -0.88 ...  0.97  0.98  0.99]\n",
            " [-0.9  -0.89 -0.88 ...  0.97  0.98  0.99]\n",
            " [-0.9  -0.89 -0.88 ...  0.97  0.98  0.99]]\n"
          ],
          "name": "stdout"
        }
      ]
    },
    {
      "cell_type": "code",
      "metadata": {
        "id": "Bhc9psuDbJMq",
        "colab_type": "code",
        "colab": {}
      },
      "source": [
        "one_190 = np.ones(190)\n",
        "xg = np.arange(-0.9,1,0.01)\n",
        "yg = np.arange(-0.9,1,0.01)\n",
        "xg,yg = np.meshgrid(xg,yg)\n",
        "XYg = np.arange(3610000,dtype=float)\n",
        "XYg = XYg.reshape(10,10,190,190)\n",
        "\n",
        "XYg[0][0] = one_190\n",
        "XYg[0][1] = yg\n",
        "XYg[0][2] = yg*yg\n",
        "XYg[0][3] = yg*yg*yg\n",
        "XYg[0][4] = yg*yg*yg*yg\n",
        "XYg[0][5] = yg*yg*yg*yg*yg\n",
        "XYg[0][6] = yg*yg*yg*yg*yg*yg\n",
        "XYg[0][7] = yg*yg*yg*yg*yg*yg*yg\n",
        "XYg[0][8] = yg*yg*yg*yg*yg*yg*yg*yg\n",
        "XYg[0][9] = yg*yg*yg*yg*yg*yg*yg*yg*yg\n",
        "\n",
        "XYg[1][0] = xg\n",
        "XYg[1][1] = xg*yg\n",
        "XYg[1][2] = xg*yg*yg\n",
        "XYg[1][3] = xg*yg*yg*yg\n",
        "XYg[1][4] = xg*yg*yg*yg*yg\n",
        "XYg[1][5] = xg*yg*yg*yg*yg*yg\n",
        "XYg[1][6] = xg*yg*yg*yg*yg*yg*yg\n",
        "XYg[1][7] = xg*yg*yg*yg*yg*yg*yg*yg\n",
        "XYg[1][8] = xg*yg*yg*yg*yg*yg*yg*yg*yg\n",
        "XYg[1][9] = xg*yg*yg*yg*yg*yg*yg*yg*yg*yg\n",
        "\n",
        "XYg[2][0] = xg*xg\n",
        "XYg[2][1] = xg*xg*yg\n",
        "XYg[2][2] = xg*xg*yg*yg\n",
        "XYg[2][3] = xg*xg*yg*yg*yg\n",
        "XYg[2][4] = xg*xg*yg*yg*yg*yg\n",
        "XYg[2][5] = xg*xg*yg*yg*yg*yg*yg\n",
        "XYg[2][6] = xg*xg*yg*yg*yg*yg*yg*yg\n",
        "XYg[2][7] = xg*xg*yg*yg*yg*yg*yg*yg*yg\n",
        "XYg[2][8] = xg*xg*yg*yg*yg*yg*yg*yg*yg*yg\n",
        "XYg[2][9] = xg*xg*yg*yg*yg*yg*yg*yg*yg*yg*yg\n",
        "\n",
        "XYg[3][0] = xg*xg*xg\n",
        "XYg[3][1] = xg*xg*xg*yg\n",
        "XYg[3][2] = xg*xg*xg*yg*yg\n",
        "XYg[3][3] = xg*xg*xg*yg*yg*yg\n",
        "XYg[3][4] = xg*xg*xg*yg*yg*yg*yg\n",
        "XYg[3][5] = xg*xg*xg*yg*yg*yg*yg*yg\n",
        "XYg[3][6] = xg*xg*xg*yg*yg*yg*yg*yg*yg\n",
        "XYg[3][7] = xg*xg*xg*yg*yg*yg*yg*yg*yg*yg\n",
        "XYg[3][8] = xg*xg*xg*yg*yg*yg*yg*yg*yg*yg*yg\n",
        "XYg[3][9] = xg*xg*xg*yg*yg*yg*yg*yg*yg*yg*yg*yg\n",
        "\n",
        "XYg[4][0] = xg*xg*xg*xg\n",
        "XYg[4][1] = xg*xg*xg*xg*yg\n",
        "XYg[4][2] = xg*xg*xg*xg*yg*yg\n",
        "XYg[4][3] = xg*xg*xg*xg*yg*yg*yg\n",
        "XYg[4][4] = xg*xg*xg*xg*yg*yg*yg*yg\n",
        "XYg[4][5] = xg*xg*xg*xg*yg*yg*yg*yg*yg\n",
        "XYg[4][6] = xg*xg*xg*xg*yg*yg*yg*yg*yg*yg\n",
        "XYg[4][7] = xg*xg*xg*xg*yg*yg*yg*yg*yg*yg*yg\n",
        "XYg[4][8] = xg*xg*xg*xg*yg*yg*yg*yg*yg*yg*yg*yg\n",
        "XYg[4][9] = xg*xg*xg*xg*yg*yg*yg*yg*yg*yg*yg*yg*yg\n",
        "\n",
        "XYg[5][0] = xg*xg*xg*xg*xg\n",
        "XYg[5][1] = xg*xg*xg*xg*xg*yg\n",
        "XYg[5][2] = xg*xg*xg*xg*xg*yg*yg\n",
        "XYg[5][3] = xg*xg*xg*xg*xg*yg*yg*yg\n",
        "XYg[5][4] = xg*xg*xg*xg*xg*yg*yg*yg*yg\n",
        "XYg[5][5] = xg*xg*xg*xg*xg*yg*yg*yg*yg*yg\n",
        "XYg[5][6] = xg*xg*xg*xg*xg*yg*yg*yg*yg*yg*yg\n",
        "XYg[5][7] = xg*xg*xg*xg*xg*yg*yg*yg*yg*yg*yg*yg\n",
        "XYg[5][8] = xg*xg*xg*xg*xg*yg*yg*yg*yg*yg*yg*yg*yg\n",
        "XYg[5][9] = xg*xg*xg*xg*xg*yg*yg*yg*yg*yg*yg*yg*yg*yg\n",
        "\n",
        "XYg[6][0] = xg*xg*xg*xg*xg*xg\n",
        "XYg[6][1] = xg*xg*xg*xg*xg*xg*yg\n",
        "XYg[6][2] = xg*xg*xg*xg*xg*xg*yg*yg\n",
        "XYg[6][3] = xg*xg*xg*xg*xg*xg*yg*yg*yg\n",
        "XYg[6][4] = xg*xg*xg*xg*xg*xg*yg*yg*yg*yg\n",
        "XYg[6][5] = xg*xg*xg*xg*xg*xg*yg*yg*yg*yg*yg\n",
        "XYg[6][6] = xg*xg*xg*xg*xg*xg*yg*yg*yg*yg*yg*yg\n",
        "XYg[6][7] = xg*xg*xg*xg*xg*xg*yg*yg*yg*yg*yg*yg*yg\n",
        "XYg[6][8] = xg*xg*xg*xg*xg*xg*yg*yg*yg*yg*yg*yg*yg*yg\n",
        "XYg[6][9] = xg*xg*xg*xg*xg*xg*yg*yg*yg*yg*yg*yg*yg*yg*yg\n",
        "\n",
        "XYg[7][0] = xg*xg*xg*xg*xg*xg*xg\n",
        "XYg[7][1] = xg*xg*xg*xg*xg*xg*xg*yg\n",
        "XYg[7][2] = xg*xg*xg*xg*xg*xg*xg*yg*yg\n",
        "XYg[7][3] = xg*xg*xg*xg*xg*xg*xg*yg*yg*yg\n",
        "XYg[7][4] = xg*xg*xg*xg*xg*xg*xg*yg*yg*yg*yg\n",
        "XYg[7][5] = xg*xg*xg*xg*xg*xg*xg*yg*yg*yg*yg*yg\n",
        "XYg[7][6] = xg*xg*xg*xg*xg*xg*xg*yg*yg*yg*yg*yg*yg\n",
        "XYg[7][7] = xg*xg*xg*xg*xg*xg*xg*yg*yg*yg*yg*yg*yg*yg\n",
        "XYg[7][8] = xg*xg*xg*xg*xg*xg*xg*yg*yg*yg*yg*yg*yg*yg*yg\n",
        "XYg[7][9] = xg*xg*xg*xg*xg*xg*xg*yg*yg*yg*yg*yg*yg*yg*yg*yg\n",
        "\n",
        "XYg[8][0] = xg*xg*xg*xg*xg*xg*xg*xg\n",
        "XYg[8][1] = xg*xg*xg*xg*xg*xg*xg*xg*yg\n",
        "XYg[8][2] = xg*xg*xg*xg*xg*xg*xg*xg*yg*yg\n",
        "XYg[8][3] = xg*xg*xg*xg*xg*xg*xg*xg*yg*yg*yg\n",
        "XYg[8][4] = xg*xg*xg*xg*xg*xg*xg*xg*yg*yg*yg*yg\n",
        "XYg[8][5] = xg*xg*xg*xg*xg*xg*xg*xg*yg*yg*yg*yg*yg\n",
        "XYg[8][6] = xg*xg*xg*xg*xg*xg*xg*xg*yg*yg*yg*yg*yg*yg\n",
        "XYg[8][7] = xg*xg*xg*xg*xg*xg*xg*xg*yg*yg*yg*yg*yg*yg*yg\n",
        "XYg[8][8] = xg*xg*xg*xg*xg*xg*xg*xg*yg*yg*yg*yg*yg*yg*yg*yg\n",
        "XYg[8][9] = xg*xg*xg*xg*xg*xg*xg*xg*yg*yg*yg*yg*yg*yg*yg*yg*yg\n",
        "\n",
        "XYg[9][0] = xg*xg*xg*xg*xg*xg*xg*xg*xg\n",
        "XYg[9][1] = xg*xg*xg*xg*xg*xg*xg*xg*xg*yg\n",
        "XYg[9][2] = xg*xg*xg*xg*xg*xg*xg*xg*xg*yg*yg\n",
        "XYg[9][3] = xg*xg*xg*xg*xg*xg*xg*xg*xg*yg*yg*yg\n",
        "XYg[9][4] = xg*xg*xg*xg*xg*xg*xg*xg*xg*yg*yg*yg*yg\n",
        "XYg[9][5] = xg*xg*xg*xg*xg*xg*xg*xg*xg*yg*yg*yg*yg*yg\n",
        "XYg[9][6] = xg*xg*xg*xg*xg*xg*xg*xg*xg*yg*yg*yg*yg*yg*yg\n",
        "XYg[9][7] = xg*xg*xg*xg*xg*xg*xg*xg*xg*yg*yg*yg*yg*yg*yg*yg\n",
        "XYg[9][8] = xg*xg*xg*xg*xg*xg*xg*xg*xg*yg*yg*yg*yg*yg*yg*yg*yg\n",
        "XYg[9][9] = xg*xg*xg*xg*xg*xg*xg*xg*xg*yg*yg*yg*yg*yg*yg*yg*yg*yg\n",
        "# print(XY[0][0])\n"
      ],
      "execution_count": 0,
      "outputs": []
    },
    {
      "cell_type": "code",
      "metadata": {
        "id": "7zr9PJqoHfvj",
        "colab_type": "code",
        "colab": {}
      },
      "source": [
        "n_data = len(x)              # 데이터 수\n",
        "lter_num = 50000            # 반복 수\n",
        "learning_rate = 0.01         # 러닝레이트\n",
        "\n",
        "def s(z):\n",
        "    return 1 / (1+np.exp(-z))\n",
        "\n",
        "L1_cost_guess = np.array(range(lter_num),dtype=float)           # 변수 저장용 배열 선언\n",
        "L1_training_accuracy = np.array(range(lter_num),dtype=float)\n",
        "\n",
        "L2_cost_guess = np.array(range(lter_num),dtype=float)           # 변수 저장용 배열 선언\n",
        "L2_training_accuracy = np.array(range(lter_num),dtype=float)\n",
        "\n",
        "L3_cost_guess = np.array(range(lter_num),dtype=float)           # 변수 저장용 배열 선언\n",
        "L3_training_accuracy = np.array(range(lter_num),dtype=float)"
      ],
      "execution_count": 0,
      "outputs": []
    },
    {
      "cell_type": "code",
      "metadata": {
        "id": "HdjlKUr_lstC",
        "colab_type": "code",
        "colab": {
          "base_uri": "https://localhost:8080/",
          "height": 69
        },
        "outputId": "1e3bbb78-0609-4fa4-b08b-2b09c0ccb2b6"
      },
      "source": [
        "L1 = 0.0000000001\n",
        "L2 = 0.1\n",
        "L3 = 1\n",
        "\n",
        "W1 = np.zeros(100)\n",
        "W1 = W1.reshape(10,10)\n",
        "g_w1 = np.zeros(100)\n",
        "g_w1 = g_w1.reshape(10,10)\n",
        "\n",
        "W2 = np.zeros(100)\n",
        "W2 = W2.reshape(10,10)\n",
        "g_w2 = np.zeros(100)\n",
        "g_w2 = g_w2.reshape(10,10)\n",
        "\n",
        "W3 = np.zeros(100)\n",
        "W3 = W3.reshape(10,10)\n",
        "g_w3 = np.zeros(100)\n",
        "g_w3 = g_w3.reshape(10,10)\n",
        "\n",
        "for i in range(0,lter_num):\n",
        "    z1=0.0\n",
        "    z2=0.0\n",
        "    z3=0.0\n",
        "    for a in range(0,10):\n",
        "        for b in range(0,10):\n",
        "            z1 += W1[a][b]*XY[a][b]\n",
        "            z2 += W2[a][b]*XY[a][b]\n",
        "            z3 += W3[a][b]*XY[a][b]\n",
        "\n",
        "    cc1 = 0.0\n",
        "    cc2 = 0.0\n",
        "    cc3 = 0.0\n",
        "    for a in range(0,10):\n",
        "        for b in range(0,10):\n",
        "            cc1 += W1[a][b]*W1[a][b]\n",
        "            cc2 += W2[a][b]*W2[a][b]\n",
        "            cc3 += W3[a][b]*W3[a][b]\n",
        "\n",
        "    cost1 = np.sum(  -l*np.log(s(z1)) - (1-l)*np.log(1-s(z1))  )/n_data  + L1/2*cc1\n",
        "    cost2 = np.sum(  -l*np.log(s(z2)) - (1-l)*np.log(1-s(z2))  )/n_data  + L2/2*cc2\n",
        "    cost3 = np.sum(  -l*np.log(s(z3)) - (1-l)*np.log(1-s(z3))  )/n_data  + L3/2*cc3\n",
        "\n",
        "    good1 = 0\n",
        "    good2 = 0\n",
        "    good3 = 0\n",
        "    for j in range(0,n_data):\n",
        "        if(z1[j]>0):\n",
        "            if(l[j]==1):\n",
        "                good1+=1\n",
        "        if(z1[j]<0):\n",
        "            if(l[j]==0):\n",
        "                good1+=1\n",
        "\n",
        "    for j in range(0,n_data):\n",
        "        if(z2[j]>0):\n",
        "            if(l[j]==1):\n",
        "                good2+=1\n",
        "        if(z2[j]<0):\n",
        "            if(l[j]==0):\n",
        "                good2+=1\n",
        "\n",
        "    for j in range(0,n_data):\n",
        "        if(z3[j]>0):\n",
        "            if(l[j]==1):\n",
        "                good3+=1\n",
        "        if(z3[j]<0):\n",
        "            if(l[j]==0):\n",
        "                good3+=1\n",
        "\n",
        "    L1_training_accuracy[i] = good1/n_data       # 정확도 측정\n",
        "    L2_training_accuracy[i] = good2/n_data\n",
        "    L3_training_accuracy[i] = good3/n_data\n",
        "\n",
        "    L1_cost_guess[i] = cost1                     # 반복마다 값들 저장\n",
        "    L2_cost_guess[i] = cost2\n",
        "    L3_cost_guess[i] = cost3\n",
        "\n",
        "    for a in range(0,10):\n",
        "        for b in range(0,10):\n",
        "            g_w1[a][b] = np.sum((s(z1)-l)*XY[a][b])/n_data\n",
        "            g_w2[a][b] = np.sum((s(z2)-l)*XY[a][b])/n_data\n",
        "            g_w3[a][b] = np.sum((s(z3)-l)*XY[a][b])/n_data\n",
        "\n",
        "    for a in range(0,10):\n",
        "        for b in range(0,10):\n",
        "            W1[a][b] -= learning_rate * (g_w1[a][b] + L1*W1[a][b])\n",
        "            W2[a][b] -= learning_rate * (g_w2[a][b] + L2*W2[a][b])\n",
        "            W3[a][b] -= learning_rate * (g_w3[a][b] + L3*W3[a][b])\n",
        "\n",
        "print(cost1 , good1/n_data)\n",
        "print(cost2 , good2/n_data)\n",
        "print(cost3 , good3/n_data)"
      ],
      "execution_count": 277,
      "outputs": [
        {
          "output_type": "stream",
          "text": [
            "0.3532221475766171 0.8220338983050848\n",
            "0.64811107904179 0.7627118644067796\n",
            "0.6852335600641251 0.6186440677966102\n"
          ],
          "name": "stdout"
        }
      ]
    },
    {
      "cell_type": "markdown",
      "metadata": {
        "id": "QqQk1WuUBduk",
        "colab_type": "text"
      },
      "source": [
        "=====================     **RESULTS**     ====================="
      ]
    },
    {
      "cell_type": "markdown",
      "metadata": {
        "id": "IYGOI41gBhXy",
        "colab_type": "text"
      },
      "source": [
        "**1. Plot the training data**"
      ]
    },
    {
      "cell_type": "code",
      "metadata": {
        "id": "iMmVSyDLBeu4",
        "colab_type": "code",
        "colab": {
          "base_uri": "https://localhost:8080/",
          "height": 503
        },
        "outputId": "4307d4bc-8b40-436d-fd3c-34910f2fd3fe"
      },
      "source": [
        "plt.figure(figsize=(8, 8))\n",
        "plt.scatter(x_0, y_0,alpha=0.5,s=30, c='b')\n",
        "plt.scatter(x_1, y_1,alpha=0.5,s=39, c='r')\n",
        "plt.title('Training Data',fontsize=18)\n",
        "plt.show()"
      ],
      "execution_count": 155,
      "outputs": [
        {
          "output_type": "display_data",
          "data": {
            "image/png": "[encoded data removed]",
            "text/plain": [
              "<Figure size 576x576 with 1 Axes>"
            ]
          },
          "metadata": {
            "tags": [],
            "needs_background": "light"
          }
        }
      ]
    },
    {
      "cell_type": "markdown",
      "metadata": {
        "id": "qCEP2jItBr5h",
        "colab_type": "text"
      },
      "source": [
        "**2. Plot the training error with varying regularization parameters**"
      ]
    },
    {
      "cell_type": "code",
      "metadata": {
        "id": "ARlapOByBuev",
        "colab_type": "code",
        "colab": {
          "base_uri": "https://localhost:8080/",
          "height": 522
        },
        "outputId": "9d8d9fbd-cd9a-483f-cee2-756f4799fd5b"
      },
      "source": [
        "lter = np.array(range(lter_num))\n",
        "plt.figure(figsize=(8, 8))\n",
        "plt.plot(lter, L1_cost_guess,alpha=0.6,color='r')\n",
        "plt.plot(lter, L2_cost_guess,alpha=0.6,color='g')\n",
        "plt.plot(lter, L3_cost_guess,alpha=0.6,color='b')\n",
        "plt.title('Training Error',fontsize=20)\n",
        "plt.xlabel('Iteration',fontsize=14)\n",
        "plt.ylabel('cost',fontsize=14)\n",
        "plt.show()"
      ],
      "execution_count": 279,
      "outputs": [
        {
          "output_type": "display_data",
          "data": {
            "image/png": "[encoded data removed]",
            "text/plain": [
              "<Figure size 576x576 with 1 Axes>"
            ]
          },
          "metadata": {
            "tags": [],
            "needs_background": "light"
          }
        }
      ]
    },
    {
      "cell_type": "markdown",
      "metadata": {
        "id": "VNpFbd91YV3Y",
        "colab_type": "text"
      },
      "source": [
        "**3. Display the values of the chosen regularization parameters**"
      ]
    },
    {
      "cell_type": "code",
      "metadata": {
        "id": "kt6Ri0zjYY7_",
        "colab_type": "code",
        "colab": {
          "base_uri": "https://localhost:8080/",
          "height": 69
        },
        "outputId": "63fc8ea0-970a-4082-f470-cb52a349b093"
      },
      "source": [
        "# print('\\033[31m \\033[43m' + '글자와 배경 변경' + '\\033[0m')\n",
        "\n",
        "print('\\033[31m' + str(L1))\n",
        "print('\\033[32m' + str(L2))\n",
        "print('\\033[34m' + str(L3))"
      ],
      "execution_count": 181,
      "outputs": [
        {
          "output_type": "stream",
          "text": [
            "\u001b[31m0.0005\n",
            "\u001b[32m0.0001\n",
            "\u001b[34m0.0015\n"
          ],
          "name": "stdout"
        }
      ]
    },
    {
      "cell_type": "markdown",
      "metadata": {
        "id": "zZFwHfKLY6i4",
        "colab_type": "text"
      },
      "source": [
        "**4. Plot the training accuracy with varying regularization parameters**"
      ]
    },
    {
      "cell_type": "code",
      "metadata": {
        "id": "UrTziDvjY8xL",
        "colab_type": "code",
        "colab": {
          "base_uri": "https://localhost:8080/",
          "height": 522
        },
        "outputId": "4ca47633-77cb-4df0-9c22-5321072f6fcd"
      },
      "source": [
        "plt.figure(figsize=(8, 8))\n",
        "plt.plot(lter, L1_training_accuracy,alpha=0.6,color='r')\n",
        "plt.plot(lter, L2_training_accuracy,alpha=0.6,color='g')\n",
        "plt.plot(lter, L3_training_accuracy,alpha=0.6,color='b')\n",
        "plt.title('Training accuracy',fontsize=20)\n",
        "plt.xlabel('Iteration',fontsize=14)\n",
        "plt.ylabel('accuracy',fontsize=14)\n",
        "plt.show()"
      ],
      "execution_count": 280,
      "outputs": [
        {
          "output_type": "display_data",
          "data": {
            "image/png": "[encoded data removed]",
            "text/plain": [
              "<Figure size 576x576 with 1 Axes>"
            ]
          },
          "metadata": {
            "tags": [],
            "needs_background": "light"
          }
        }
      ]
    },
    {
      "cell_type": "markdown",
      "metadata": {
        "id": "ohwzUhnnY9JE",
        "colab_type": "text"
      },
      "source": [
        "**5. Display the final training accuracy with varying regularization parameters**"
      ]
    },
    {
      "cell_type": "code",
      "metadata": {
        "id": "WlOtLTsMY_rH",
        "colab_type": "code",
        "colab": {
          "base_uri": "https://localhost:8080/",
          "height": 69
        },
        "outputId": "d585d228-2294-4a95-8d91-217cc5a8b484"
      },
      "source": [
        "print(good1/n_data)\n",
        "print(good2/n_data)\n",
        "print(good3/n_data)"
      ],
      "execution_count": 258,
      "outputs": [
        {
          "output_type": "stream",
          "text": [
            "0.847457627118644\n",
            "0.8305084745762712\n",
            "0.6186440677966102\n"
          ],
          "name": "stdout"
        }
      ]
    },
    {
      "cell_type": "markdown",
      "metadata": {
        "id": "C1tkPx-YY__m",
        "colab_type": "text"
      },
      "source": [
        "**6. Plot the optimal classifier with varying regularization parameters superimposed on the training data**"
      ]
    },
    {
      "cell_type": "code",
      "metadata": {
        "id": "EJ7yMOKxZClE",
        "colab_type": "code",
        "colab": {
          "base_uri": "https://localhost:8080/",
          "height": 504
        },
        "outputId": "01248612-bfe2-429e-f1db-014279498a91"
      },
      "source": [
        "zz1 = 0.0\n",
        "zz2 = 0.0\n",
        "zz3 = 0.0\n",
        "for a in range(0,10):\n",
        "        for b in range(0,10):\n",
        "            zz1 += W1[a][b]*XYg[a][b]\n",
        "            zz2 += W2[a][b]*XYg[a][b]\n",
        "            zz3 += W3[a][b]*XYg[a][b]\n",
        "plt.figure(figsize=(9, 8))\n",
        "plt.contour(xg, yg,zz1,colors=\"r\",levels=[-30,0,30],alpha=0.7,linestyles=[\"--\",\"-\",\"--\"])\n",
        "plt.contour(xg, yg,zz2,colors=\"g\",levels=[-30,0,30],alpha=0.7,linestyles=[\"--\",\"-\",\"--\"])\n",
        "plt.contour(xg, yg,zz3,colors=\"b\",levels=[-30,0,30],alpha=0.7,linestyles=[\"--\",\"-\",\"--\"])\n",
        "plt.colorbar(label='color')\n",
        "plt.scatter(x_0, y_0, s=10,alpha=1, c='b')\n",
        "plt.scatter(x_1, y_1, s=10,alpha=1, c='r')\n",
        "plt.title('Obtained classifier',fontsize=20)\n",
        "plt.show()"
      ],
      "execution_count": 278,
      "outputs": [
        {
          "output_type": "display_data",
          "data": {
            "image/png": "[encoded data removed]",
            "text/plain": [
              "<Figure size 648x576 with 2 Axes>"
            ]
          },
          "metadata": {
            "tags": [],
            "needs_background": "light"
          }
        }
      ]
    }
  ]
}