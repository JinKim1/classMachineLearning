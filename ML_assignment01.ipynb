{
 "cells": [
  {
   "cell_type": "markdown",
   "metadata": {
    "colab_type": "text",
    "id": "Y3R8hlf11mnS"
   },
   "source": [
    "# 김동진 머신러닝 노트"
   ]
  },
  {
   "cell_type": "markdown",
   "metadata": {
    "colab_type": "text",
    "id": "OlhTvcbC3u4j"
   },
   "source": [
    "**1) Input Data**\n",
    "\n",
    "m = 20, a = 2, b = 5,σ = 1\n",
    "\n",
    "1.   x starts from 0, and has random perturbation between 0~1.\n",
    "2.   y^ = 2x + 5 .\n",
    "3.   y = y^ + n where n ~ N(0,1).\n",
    "4.   Blue line shows the fucntion which I made(y=2x+5).\n",
    "5.   Black points are data produce by required method.\n",
    "\n"
   ]
  },
  {
   "cell_type": "code",
   "execution_count": 219,
   "metadata": {
    "colab": {
     "base_uri": "https://localhost:8080/",
     "height": 265
    },
    "colab_type": "code",
    "id": "XaNfzq2mjeRI",
    "outputId": "2e2e7231-b1d3-49a0-f263-3d9cfe204253"
   },
   "outputs": [
    {
     "data": {
      "image/png": "[encoded data removed]",
      "text/plain": [
       "<Figure size 432x288 with 1 Axes>"
      ]
     },
     "metadata": {
      "tags": []
     },
     "output_type": "display_data"
    }
   ],
   "source": [
    "import torch\n",
    "from matplotlib import pyplot as plt\n",
    "import numpy as np\n",
    "\n",
    "def func(x,a,b):\n",
    "    return a*x + b\n",
    "\n",
    "x = torch.zeros(20)\n",
    "np.random.seed(1)\n",
    "xplus = np.random.rand(19)\n",
    "nb_epochs = 20\n",
    "for epoch in range(0,nb_epochs-1):\n",
    "    x[epoch+1] = x[epoch]+xplus[epoch]\n",
    "y = func(x,2,5)\n",
    "\n",
    "noise = np.random.normal(0,1,20)\n",
    "yn = y + noise\n",
    "\n",
    "plt.plot(x,y)\n",
    "plt.scatter(x,yn,color = 'black')\n",
    "plt.show()"
   ]
  },
  {
   "cell_type": "markdown",
   "metadata": {
    "colab_type": "text",
    "id": "Um0gXV1MilKH"
   },
   "source": [
    " **2)Plotting the energy values.**\n",
    "\n",
    "\n",
    "Every blue points are the value of the objective function at every optimization step by the gradient descent algorithm.\n",
    "\n",
    "\n",
    "It was repeated 50000 times until convergence.\n",
    "\n",
    "learning rate is 0.001"
   ]
  },
  {
   "cell_type": "code",
   "execution_count": 220,
   "metadata": {
    "colab": {
     "base_uri": "https://localhost:8080/",
     "height": 300
    },
    "colab_type": "code",
    "id": "Jn6asppH_0mJ",
    "outputId": "ebe77396-5dd2-4b78-c230-8f9fc32196a6"
   },
   "outputs": [
    {
     "name": "stdout",
     "output_type": "stream",
     "text": [
      "tensor([2.0001], requires_grad=True)\n",
      "tensor([4.9996], requires_grad=True)\n"
     ]
    },
    {
     "data": {
      "image/png": "[encoded data removed]",
      "text/plain": [
       "<Figure size 432x288 with 1 Axes>"
      ]
     },
     "metadata": {
      "tags": []
     },
     "output_type": "display_data"
    }
   ],
   "source": [
    "W = torch.zeros(1, requires_grad=True)\n",
    "b = torch.zeros(1, requires_grad=True)\n",
    "\n",
    "Wguess = torch.zeros(50000)\n",
    "bguess = torch.zeros(50000)\n",
    "costguess = torch.zeros(50000)\n",
    "count = torch.zeros(50000)\n",
    "\n",
    "optimizer = torch.optim.SGD([W,b],lr=0.001)\n",
    "\n",
    "nb_epochs = 50000\n",
    "for epoch in range(0,nb_epochs):\n",
    "    hypothesis = x * W + b\n",
    "    cost = torch.mean((hypothesis - y) ** 2)\n",
    "    Wguess[epoch] = W[0]\n",
    "    bguess[epoch] = b[0]\n",
    "    costguess[epoch] = cost\n",
    "    count[epoch] = epoch\n",
    "    optimizer.zero_grad()\n",
    "    cost.backward()\n",
    "    optimizer.step()\n",
    "\n",
    "print(W)\n",
    "print(b)\n",
    "plt.scatter(count,costguess.detach().numpy())\n",
    "plt.show()"
   ]
  },
  {
   "cell_type": "markdown",
   "metadata": {
    "colab_type": "text",
    "id": "hgEKRashojXZ"
   },
   "source": [
    " **3) Plotting the model parameters**\n",
    "\n",
    " θ1 = W(red), θ0​ = b(blue)\n",
    "\n",
    " The optimization was performed until convergence."
   ]
  },
  {
   "cell_type": "code",
   "execution_count": 221,
   "metadata": {
    "colab": {
     "base_uri": "https://localhost:8080/",
     "height": 281
    },
    "colab_type": "code",
    "id": "lb2GNlI0jXnB",
    "outputId": "763bd990-7c68-49f2-dc36-a9ebbbb4de02"
   },
   "outputs": [
    {
     "data": {
      "image/png": "[encoded data removed]",
      "text/plain": [
       "<Figure size 432x288 with 1 Axes>"
      ]
     },
     "metadata": {
      "tags": []
     },
     "output_type": "display_data"
    }
   ],
   "source": [
    "plt.title('W&b/number')\n",
    "plt.scatter(count,Wguess.detach().numpy())\n",
    "plt.scatter(count,bguess.detach().numpy(),color = 'red')\n",
    "plt.show()"
   ]
  },
  {
   "cell_type": "markdown",
   "metadata": {
    "colab_type": "text",
    "id": "al7wqWTEpRwb"
   },
   "source": [
    "** 4) Output results**\n",
    "\n",
    "The set of points that have random perturbations with respect to the straight line (in black color)\n",
    "\n",
    "\n",
    "A straight line that is the graph of a solution obtained by linear regression (in red color)\n",
    "\n",
    "W = 4.9996\n",
    "\n",
    "b = 2.0001"
   ]
  },
  {
   "cell_type": "code",
   "execution_count": 222,
   "metadata": {
    "colab": {
     "base_uri": "https://localhost:8080/",
     "height": 265
    },
    "colab_type": "code",
    "id": "K6sHWuExnR4a",
    "outputId": "b9d8c3d1-2628-44f7-82e1-497d4806fea8"
   },
   "outputs": [
    {
     "data": {
      "image/png": "[encoded data removed]",
      "text/plain": [
       "<Figure size 432x288 with 1 Axes>"
      ]
     },
     "metadata": {
      "tags": []
     },
     "output_type": "display_data"
    }
   ],
   "source": [
    "plt.plot(x,y)\n",
    "plt.scatter(x,yn,color = 'black')\n",
    "plt.plot([x[0],x[19]],[x[0]*W+b,x[19]*W+b],color = 'red')\n",
    "plt.show()"
   ]
  }
 ],
 "metadata": {
  "colab": {
   "name": "djml.ipynb",
   "provenance": []
  },
  "kernelspec": {
   "display_name": "Python 3",
   "language": "python",
   "name": "python3"
  },
  "language_info": {
   "codemirror_mode": {
    "name": "ipython",
    "version": 3
   },
   "file_extension": ".py",
   "mimetype": "text/x-python",
   "name": "python",
   "nbconvert_exporter": "python",
   "pygments_lexer": "ipython3",
   "version": "3.8.2"
  }
 },
 "nbformat": 4,
 "nbformat_minor": 1
}
